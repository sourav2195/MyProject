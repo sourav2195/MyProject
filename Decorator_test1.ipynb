{
 "cells": [
  {
   "cell_type": "code",
   "execution_count": 3,
   "id": "55750c09",
   "metadata": {},
   "outputs": [
    {
     "name": "stdout",
     "output_type": "stream",
     "text": [
      "[4, 20, 10, 13]\n"
     ]
    }
   ],
   "source": [
    "def decorator_list(fnc):\n",
    "    def inner(list_of_tuples):\n",
    "        return [fnc(val[0], val[1]) for val in list_of_tuples]\n",
    "    return inner\n",
    "\n",
    "\n",
    "@decorator_list\n",
    "def add_together(a, b):\n",
    "    return a + b\n",
    "\n",
    "\n",
    "print(add_together([(1, 3), (3, 17), (5, 5), (6, 7)]))\n",
    "\n",
    "# add_together = decorator_list(add_together)"
   ]
  },
  {
   "cell_type": "code",
   "execution_count": 12,
   "id": "433ed7bb",
   "metadata": {},
   "outputs": [
    {
     "name": "stdout",
     "output_type": "stream",
     "text": [
      "I am inner function\n"
     ]
    }
   ],
   "source": [
    "def outer_function():\n",
    "    def inner_fuction():\n",
    "        print(\"I am inner function\")\n",
    "    inner_fuction()\n",
    "outer_function()"
   ]
  },
  {
   "cell_type": "code",
   "execution_count": 21,
   "id": "7e5662ec",
   "metadata": {},
   "outputs": [
    {
     "name": "stdout",
     "output_type": "stream",
     "text": [
      "Read python bookchapter 3\n"
     ]
    }
   ],
   "source": [
    "def outer_function():\n",
    "    task=\"Read python bookchapter 3\"\n",
    "    def inner_function():\n",
    "        print(task)\n",
    "    return inner_function()\n",
    "\n",
    "homework=outer_function()"
   ]
  },
  {
   "cell_type": "code",
   "execution_count": 22,
   "id": "8826b30d",
   "metadata": {},
   "outputs": [
    {
     "name": "stdout",
     "output_type": "stream",
     "text": [
      "I am going to buy you a shirt\n",
      "Don't forget to bring your wallet !\n"
     ]
    }
   ],
   "source": [
    "#A function can be passed to another function as an argument\n",
    "def friendly_remainder(func):\n",
    "    \n",
    "    func()\n",
    "    print(\"Don't forget to bring your wallet !\")\n",
    "    \n",
    "def action():\n",
    "    print(\"I am going to buy you a shirt\")\n",
    "    \n",
    "friendly_remainder(action)"
   ]
  }
 ],
 "metadata": {
  "kernelspec": {
   "display_name": "Python 3 (ipykernel)",
   "language": "python",
   "name": "python3"
  },
  "language_info": {
   "codemirror_mode": {
    "name": "ipython",
    "version": 3
   },
   "file_extension": ".py",
   "mimetype": "text/x-python",
   "name": "python",
   "nbconvert_exporter": "python",
   "pygments_lexer": "ipython3",
   "version": "3.8.10"
  }
 },
 "nbformat": 4,
 "nbformat_minor": 5
}
